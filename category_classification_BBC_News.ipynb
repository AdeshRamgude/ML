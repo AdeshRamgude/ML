{
  "nbformat": 4,
  "nbformat_minor": 0,
  "metadata": {
    "kernelspec": {
      "display_name": "Python 3",
      "language": "python",
      "name": "python3"
    },
    "language_info": {
      "codemirror_mode": {
        "name": "ipython",
        "version": 3
      },
      "file_extension": ".py",
      "mimetype": "text/x-python",
      "name": "python",
      "nbconvert_exporter": "python",
      "pygments_lexer": "ipython3",
      "version": "3.7.4"
    },
    "colab": {
      "name": "category classification BBC News.ipynb",
      "provenance": [],
      "collapsed_sections": [],
      "include_colab_link": true
    }
  },
  "cells": [
    {
      "cell_type": "markdown",
      "metadata": {
        "id": "view-in-github",
        "colab_type": "text"
      },
      "source": [
        "<a href=\"https://colab.research.google.com/github/MartianEagle007/ML/blob/main/category_classification_BBC_News.ipynb\" target=\"_parent\"><img src=\"https://colab.research.google.com/assets/colab-badge.svg\" alt=\"Open In Colab\"/></a>"
      ]
    },
    {
      "cell_type": "code",
      "metadata": {
        "id": "ApZTs3Y3j0Ks"
      },
      "source": [
        "from __future__ import absolute_import,division,print_function,unicode_literals\n",
        "import tensorflow as tf\n",
        "#tf.enable_eager_execution()\n",
        "import os\n",
        "import datetime\n",
        "import tensorflow_hub as hub\n",
        "import numpy as np\n",
        "import pandas as pd\n",
        "from sklearn.model_selection import train_test_split"
      ],
      "execution_count": null,
      "outputs": []
    },
    {
      "cell_type": "code",
      "metadata": {
        "id": "po27Oa41j0K-"
      },
      "source": [
        "df=pd.read_csv('bbc-text.csv')"
      ],
      "execution_count": null,
      "outputs": []
    },
    {
      "cell_type": "code",
      "metadata": {
        "id": "21rZ39nSj0LN",
        "outputId": "81195b50-fde4-4654-d2c2-a36aee9d34d7",
        "colab": {
          "base_uri": "https://localhost:8080/",
          "height": 35
        }
      },
      "source": [
        "df.columns"
      ],
      "execution_count": null,
      "outputs": [
        {
          "output_type": "execute_result",
          "data": {
            "text/plain": [
              "Index(['cat', 'description'], dtype='object')"
            ]
          },
          "metadata": {
            "tags": []
          },
          "execution_count": 54
        }
      ]
    },
    {
      "cell_type": "code",
      "metadata": {
        "id": "3lA8a1ngj0Lb"
      },
      "source": [
        "X_train,X_test=train_test_split(df,test_size=0.2,random_state=111)"
      ],
      "execution_count": null,
      "outputs": []
    },
    {
      "cell_type": "code",
      "metadata": {
        "id": "SwWP1wEhj0Lk"
      },
      "source": [
        "from sklearn.utils import class_weight\n",
        "class_weight =list(class_weight.compute_class_weight('balanced',np.unique(df['cat']),df['cat']))"
      ],
      "execution_count": null,
      "outputs": []
    },
    {
      "cell_type": "code",
      "metadata": {
        "id": "cnJQk7x7j0Ly",
        "outputId": "b5732380-358b-42f2-ce2e-d305a63cc151",
        "colab": {
          "base_uri": "https://localhost:8080/",
          "height": 126
        }
      },
      "source": [
        "df['cat'].value_counts()"
      ],
      "execution_count": null,
      "outputs": [
        {
          "output_type": "execute_result",
          "data": {
            "text/plain": [
              "business         510\n",
              "politics         417\n",
              "entertainment    386\n",
              "sport              4\n",
              "tech               2\n",
              "Name: cat, dtype: int64"
            ]
          },
          "metadata": {
            "tags": []
          },
          "execution_count": 57
        }
      ]
    },
    {
      "cell_type": "code",
      "metadata": {
        "id": "MjUqOzlXj0MA"
      },
      "source": [
        "class_weight.sort()"
      ],
      "execution_count": null,
      "outputs": []
    },
    {
      "cell_type": "code",
      "metadata": {
        "id": "jp-ya7t4j0MO",
        "outputId": "c54690b6-3e42-46c2-8a91-64ccf7969050",
        "colab": {
          "base_uri": "https://localhost:8080/",
          "height": 35
        }
      },
      "source": [
        "class_weight"
      ],
      "execution_count": null,
      "outputs": [
        {
          "output_type": "execute_result",
          "data": {
            "text/plain": [
              "[0.5172549019607843, 0.6326139088729017, 0.683419689119171, 65.95, 131.9]"
            ]
          },
          "metadata": {
            "tags": []
          },
          "execution_count": 59
        }
      ]
    },
    {
      "cell_type": "code",
      "metadata": {
        "id": "i0Qq85yGj0Mb"
      },
      "source": [
        "weights={}"
      ],
      "execution_count": null,
      "outputs": []
    },
    {
      "cell_type": "code",
      "metadata": {
        "id": "gXTha0fJj0Mo"
      },
      "source": [
        "for index, weight in enumerate(class_weight):\n",
        "    weights[index]=weight"
      ],
      "execution_count": null,
      "outputs": []
    },
    {
      "cell_type": "code",
      "metadata": {
        "id": "6o43ryejj0M2",
        "outputId": "35787a9d-9ebc-4536-b02f-1bcbe69d831b",
        "colab": {
          "base_uri": "https://localhost:8080/",
          "height": 108
        }
      },
      "source": [
        "weights"
      ],
      "execution_count": null,
      "outputs": [
        {
          "output_type": "execute_result",
          "data": {
            "text/plain": [
              "{0: 0.5172549019607843,\n",
              " 1: 0.6326139088729017,\n",
              " 2: 0.683419689119171,\n",
              " 3: 65.95,\n",
              " 4: 131.9}"
            ]
          },
          "metadata": {
            "tags": []
          },
          "execution_count": 62
        }
      ]
    },
    {
      "cell_type": "code",
      "metadata": {
        "id": "6PEohtFMj0NF"
      },
      "source": [
        "dataset_train=tf.data.Dataset.from_tensor_slices((X_train['description'].values,X_train['cat'].values))\n",
        "dataset_test=tf.data.Dataset.from_tensor_slices((X_test['description'].values,X_test['cat'].values))"
      ],
      "execution_count": null,
      "outputs": []
    },
    {
      "cell_type": "code",
      "metadata": {
        "id": "3rShzcsKqQTW",
        "outputId": "78dff46b-d0a0-4def-90c5-f9149904c836",
        "colab": {
          "base_uri": "https://localhost:8080/",
          "height": 110
        }
      },
      "source": [
        "for text, target in dataset_train.take(4):\n",
        "  print('description: {},Target: {}'.format(text,target))"
      ],
      "execution_count": null,
      "outputs": [
        {
          "output_type": "stream",
          "text": [
            "description: b'labour chooses manchester the labour party will hold its 2006 autumn conference in manchester and not blackpool  it has been confirmed.  the much trailed decision was ratified by labour s ruling national executive committee in a break with the traditional choice of a seaside venue. it will be the first time since 1917 that the party has chosen manchester to host the annual event. blackpool will get the much smaller february spring conference instead in what will be seen as a placatory move.  for years the main political parties have rotated between blackpool  bournemouth and brighton. and the news the much larger annual conference is not to gather in blackpool will be seen as a blow in the coastal resort. in 1998 the party said it would not return to blackpool but did so in 2002. the following year bournemouth hosted the event before the party signed a two year deal for brighton to host the autumn conference.  colin asplin  blackpool hotel association said:  we have tried very hard to make sure they come back to blackpool.  obviously we have failed in that. i just hope manchester can handle the crowds.  it amazes me that the labour party  which is a working class party  doesn t want to come to the main working class resort in the country.  the exact cost to blackpool in terms of lost revenue for hotel accommodation is not yet known but it is thought that block bookings will be taken at the major manchester hotels after the official announcement.',Target: b'politics'\n",
            "description: b'uk heading wrong way - howard tony blair has had the chance to tackle the problems facing britain and has failed  michael howard has said.   britain is heading in the wrong direction   the conservative leader said in his new year message. mr blair s government was a  bossy  interfering government that takes decisions that should be made by individuals   he added. but labour s campaign spokesman fraser kemp responded:  britain is working  don t let the tories wreck it again . mr howard also paid tribute to the nation s character for its generous response to the asian quake disaster. the catastrophe was overshadowing the hopes for the future at this usually positive time of the year  mr howard said.   we watched the scenes of destruction with a sense of disbelief. the scale  the speed  the ferocity of what happened on boxing day is difficult to grasp.  yet britain s response has shone a light on our nation s character. the last week has shown that the warm  caring heart of britain beats as strong as ever.  he went on to reflect on the values that  most britons hold dear . looking ahead to the coming general election  he pledged to  turn these beliefs into reality  and set out the choices he says are facing britain.  how much tax do people want to pay  who will give taxpayers value for money  the clean hospitals and good  disciplined schools they want   who can be trusted to get a grip on the disorder on our streets and the chaos in our immigration system    mr blair has failed to tackle these problems  he claimed  saying he has the  wrong solution  to them.   the result is big government and higher taxes eroding incentives  undermining enterprise and denying people choice.  worst of all  it is a government that has wasted people s money and failed to tackle the problems families face today.  the tories  he said  can cut crime and improve public services without asking people to pay more taxes.  we can have progress without losing what makes britain great - its tolerance  the respect for the rule of law  the ability of everyone to fulfil their potential.  we simply need to change direction. the election will give britain the chance to change.  this is the record mr blair will have to defend in the coming months  he said  urging voters to hold him to account.  but labour spokesman mr kemp said:  it would be more appropriate for this message to come out on 1 april  not 1 january.   let us never forget that when michael howard was in government britain suffered mass unemployment  15% interest rates  record home repossessions  and the introduction of the poll tax.  with labour britain is working. rather than alluding to false promises michael howard should be starting 2005 with an apology to the british people for the misery that the government  of which he was a member  inflicted upon the country.',Target: b'politics'\n",
            "description: b'labour accused of broken pledge labour has already broken its pre-election promise on immigration before the ink has dried on its new pledge card  the tories have claimed.  home secretary charles clarke has been quoted as telling labour members he wants more migrants to come to the uk. tory co-chairman liam fox said the comments were at odds with tony blair s prediction of a net cut in immigration. but mr clarke accused him of trying to score  cheap political points  by muddling immigration with asylum.  london s evening standard quoted mr clarke telling labour activists at a question and answer session in gateshead that he wanted britain to offer refuge for those fleeing tyranny.  that s not only a moral duty and a legal duty  but something which is part of the essence of this country   he said.   we want more migration  more people come to study and to work.  we want more people coming to look for refuge.  mr blair s was asked last wednesday if the government s new immigration plans  including a point system for economic migrants  would reduce net migration. the prime minister told mps:  the abusers will be weeded out  and as a result of the end of chain migration [where families have an automatic right to settle]  the numbers will probably fall.   on monday  dr fox told reporters:  the prime minister has broken his word so many times in the past but now his promises do not even last a week.  the labour party election pledges  even when they are so incredibly vague  do not even last four days.   the tories want quotas for economic migrants and refugees and on tuesday will outline more details of their plans for health checks on migrants. mr clarke dismissed the latest tory attack.  this is simply a scurrilous attempt by the tories to score cheap political points   he said.  the tories are purposely mixing together two separate issues of immigration and asylum.   mr clarke said he had made clear the uk would welcome genuine economic migrants for key jobs on a strict points based system. and only asylum seekers genuinely fleeing death or persecution would be admitted.  under our plans we expect unfounded applications to continue to fall   he added. earlier  dr fox accused mr blair and other cabinet ministers of telling lies about tory policies and then attacking the lies. he told bbc radio:  if you are willing to lie about the reasons for going to war  i guess you are going to lie about anything at all.  the latest pre-election spats come after mr blair told labour members the tories offered a  hard right agenda  which would take britain backwards. lib dem leader charles kennedy accelerating lib dem election preparations this week as he visits manchester  liverpool  leicester  somerset  basingstoke  shrewsbury  dorset and torbay.',Target: b'politics'\n",
            "description: b'february poll claim  speculation  reports that tony blair is planning a snap general election for february 2005 have been described as  idle speculation  by downing street.  a spokesman said he had  no idea  where the reports in the sunday times and sunday telegraph had come from. the papers suggest ministers believe the government could benefit from a  baghdad bounce  following successful iraq elections in january. a british general election was last held in february in 1974. in that election  edward heath lost and failed to build a coalition with the liberals. harold wilson took over and increased his majority later in the year in a second election  the latest speculation suggests the prime minister favours a february poll in order to exploit his current opinion poll lead over conservative leader michael howard. but that strategy could prompt criticism he was seeking to  cut and run  after less then four years of a parliamentary term. the papers report that alan milburn  labour s head of elections strategy  has played a key role in the plan for a february election  which would include a new year advertising blitz. new labour s campaign  both newspapers said  would be centred around the slogan  britain is working . a labour party spokesman said the election date was ultimately a matter for mr blair  but he was unaware of anything to suggest it would be in february. most commentators have been expecting an election on 5 may. the last election was in june 2001.',Target: b'politics'\n"
          ],
          "name": "stdout"
        }
      ]
    },
    {
      "cell_type": "code",
      "metadata": {
        "id": "8lDeiONTrjM9",
        "outputId": "d8faf845-c14d-4ace-e6ea-2174c86c1072",
        "colab": {
          "base_uri": "https://localhost:8080/",
          "height": 110
        }
      },
      "source": [
        "for text, target in dataset_test.take(4):\n",
        "  print('description: {},Target: {}'.format(text,target))"
      ],
      "execution_count": null,
      "outputs": [
        {
          "output_type": "stream",
          "text": [
            "description: b'uk troops on ivory coast standby downing street has confirmed british troops are on standby in case they need to help evacuate several hundred uk citizens from ivory coast.  the news came as it emerged france had begun evacuating its hostages after days of anti-french demonstrations. trouble flared after nine french peacekeepers were killed and president jacques chirac ordered the destruction of the ivory coast s air force. a company of 100-120 uk troops is understood to have been put on standby. they are ready to fly out and secure the route from the embassy to the airport if called upon. prime minister tony blair s official spokesman said:  there are british nationals in ivory coast and as you can imagine we are making the usual contingency plans in case the situation deteriorates further  but that s all i can say at this stage.   he added the situation would be monitored carefully in case evacuation became necessary. france has played a lead role in international peacekeeping in ivory coast - a former colony - after president laurent gbagbo broke an 18-month ceasefire with rebels bombing their positions and killing the nine french soldiers. the decision to destroy the african nation s small air force prompted riots against french and other foreign nationals. the spanish have already put their forces on standby to evacuate their nationals if necessary.',Target: b'politics'\n",
            "description: b'boris opposes mayor apology ken livingstone should  stick to his guns  and not apologise for his  nazi  comment to a jewish reporter  tory mp boris johnson has insisted.  mr johnson also claimed tony blair s intervention in the row was  an attempt to reassure jewish voters . london mayor mr livingstone says he is  standing by  his remarks which likened an evening standard journalist to a  concentration camp guard . but the prime minister says it is time for mr livingstone to say sorry.  labour s mr livingstone has said his comments may have been offensive but were not racist  and said earlier this week he would not apologise even if mr blair asked. later the prime minister said:  a lot of us in politics get angry with journalists from time to time  but in the circumstances  and to the journalist because he was a jewish journalist  yes  he should apologise.   however  mr johnson  who was forced to apologise last year for an article in the magazine he edits about liverpudlians grieving over the death of british hostage ken bigley  said mr blair  should butt out of  the row.  i don t see why the prime minister has to get involved in this   the spectator editor told bbc radio 4 s today programme.  it s a dispute between ken livingstone and a reporter on the evening standard.  mr johnson  mp for henley-on-thames  oxfordshire  said he suspected labour was now trying to reassure jewish voters  because of this curious way in which labour seems to be trying to curry favour with disillusioned muslim voters who may be disillusioned about the war .   ken doesn t think he s got anything to say sorry for and if that s really his feeling  then i think that he should stick to his guns   he said. mr johnson apologised last october for perpetuating an  outdated stereotype  of liverpool in the leader article on the death of mr bigley. the article in the magazine suggested grieving liverpudlians were wallowing in their victim status. it also attributed blame to drunken liverpool football fans for the 1989 hillsborough disaster in which 96 died. mr johnson told today:  it s perfectly true that i got into the grovelling game myself and when i apologised there were some things that i felt i ought to say sorry for ... there were also other things i didn t think i should apologise for   he said.  but here s old ken - he s been crass  he s been insensitive and thuggish and brutal in his language - but i don t think actually if you read what he said  although it was extraordinary and rude  i don t think he was actually anti-semitic.',Target: b'politics'\n",
            "description: b'hollywood ready for oscars night hollywood is preparing for the biggest night in the film world s calendar  the 77th academy awards  on sunday.  a host of stars are expected to grace the red carpet outside los angeles  kodak theatre  including johnny depp  cate blanchett and leonardo dicaprio. british actors in attendance include nominees clive owen  imelda staunton  kate winslet and director mike leigh. the aviator leads the shortlist  but critics believe the night may belong to clint eastwood s million dollar baby. a recent poll of us pundits found eastwood s boxing drama had become the new favourite to win best film over the howard hughes biopic.  if the 74-year-old does win  he will become the oldest person ever to be named best director at the ceremony. uk critics still favour the aviator for best film  but believe the best director title will generate a close fought battle between eastwood and martin scorsese.  scorsese has never won the best director prize  despite four previous nominations for films including raging bull  goodfellas and gangs of new york. eastwood has won best director once before  for unforgiven in 1993. most experts predict the twice-nominated jamie foxx will win best actor for his portrayal of singer ray charles  while vera drake star imelda staunton looks likely to lose out in the best actress field to hilary swank in million dollar baby. the uk s highest hopes remain with clive owen  who has scooped both the golden globe and the bafta for his supporting role in closer. actor and comedian chris rock will host the event  which will be broadcast with a seven-second time delay to allow censors to cut out any unsuitable content.   we have the bleep machine ready  but bleeps will be used as needed   producer gil cates told reporters. however  he added that he strongly disapproved of the growing tendency to censor live broadcasts on us tv.  he also played down fears that rock  who is known for using strong language in his stand-up routines  might cause controversy on the night. the 40-year-old comic has already promised not to swear live on air during the show.  chris has a sense of humour and everything he says is really said humorously   cates said.  you need a movie star and someone who is a stand-up comic so they can deal with the vicissitudes of the show.  security will also be tight  with police employing a system to detect sarin nerve gas.  we are pulling out all the stops   said john miller  chief of counterterrorism at the los angeles police department. the show is  a symbol of american culture and has the potential to be a high-visibility target   he added. meanwhile  organisers have erected a canopy over the red carpet following an outbreak of torrential rain in los angeles over the past week. cates said the covers would be removed if the threat of wet weather receded. details have also emerged of the contents of this year s gift bags  which are given to nominees and presenters on the night. this year s bags will include a gift certificate for a luxury beach resort  a pair of mink eyelashes and a kitchen set with a year s supply of tea and coffee. the event will be televised by the abc network from 1700 local time (0100 gmt)  and on sky movies in the uk from 0130 gmt.',Target: b'entertainment'\n",
            "description: b'guantanamo man  suing government  a british terror suspect held in guantanamo bay for 33 months plans to sue the government  it is reported.  martin mubanga claimed in the observer that an mi6 officer played a key role in consigning him to the us camp in cuba  following his arrest in zambia. mr mubanga  32  from wembley  london  said he was brutally interrogated and daubed with urine at the camp. the home secretary said he would not be launching an investigation and that the media reports were not  well informed . mr mubanga  who has dual british and zambian nationality  was one of four britons who were released from the us camp in january.  he said he was sent there after being interrogated by a british man who said he was from mi6  shortly after his arrest in zambia in march 2002. mr mubanga said he had been in afghanistan and pakistan to study islam. but he said he was unable to return to the uk because he had lost his british passport  and was travelling on his zambian passport instead. mr mubanga said the  mi6 agent  told him the passport had been found in a cave in afghanistan along with documents listing jewish groups in new york and suggested he had been on an al-qaeda reconnaissance mission. mr mubanga said the man  and an american female defence official  tried to recruit him as an agent  but he refused and within three weeks was told he would be sent to guantanamo bay.  his lawyer louise christian said:   we are hoping to issue proceedings for the misfeasance of officials who colluded with the americans in effectively kidnapping him and taking him to guantanamo.  and menzies campbell  the liberal democrats  foreign affairs spokesman  said it was vital to establish whether ministers approved mr mubanga s transfer to guantanamo. but a foreign office spokesman said he could not comment on the activities of british intelligence or security agencies. and home secretary charles clarke told bbc one s breakfast with frost:  i m not organising a specific investigation into it.  mr mubanga is the first of the four detainees freed last month to give a media interview. he told the observer his worst moment was when he was told he would be released last march  only to be confined and told he would be there for many more years.  he claimed he was stripped of his clothes and mattress and forced to remain in an empty metal box  naked except for boxer shorts. and he said an interrogator used a mop to daub him with his own urine while he was chained hand and foot. mr mubanga  who insists he does not feel bitter  said:  i ve lost three years of my life  because i was a muslim. he added:  the authorities wanted to break me but they strengthened me. they ve made me what i am - even if i m not quite sure yet who that person is.  the us government denied the claims  saying it condemned and prohibited torture. in a statement  it said:  the department of defense has no doubt that mr mubanga was properly detained as an enemy combatant under the laws of war.  he was detained to prevent him from fighting against the us and our allies in the war on terror.  but fair trials abroad director stephen jakobi said there were similarities between mr mubanga s account and those of other guantanamo detainees. he said:  the pattern is the same. the real problem is the concentration camp conditions in guantanamo.  is [charles clarke] really pretending this is all made up   mr mubanga and the three other freed british detainees were released without charge by uk police on their return from cuba.',Target: b'politics'\n"
          ],
          "name": "stdout"
        }
      ]
    },
    {
      "cell_type": "code",
      "metadata": {
        "id": "LtuODcYpj0NO"
      },
      "source": [
        "table=tf.lookup.StaticHashTable(\n",
        "    initializer=tf.lookup.KeyValueTensorInitializer(\n",
        "        keys=tf.constant(['business','politics','entertainment','sport','tech' ]),\n",
        "        values=tf.constant([0,1,2,3,4]),\n",
        "    ),\n",
        "    default_value=tf.constant(-1),\n",
        "    name=\"target_encoding\"\n",
        ")\n",
        "\n",
        "@tf.function\n",
        "def target(x):\n",
        "    return table.lookup(x)"
      ],
      "execution_count": null,
      "outputs": []
    },
    {
      "cell_type": "code",
      "metadata": {
        "id": "F3KHPy33j0NY"
      },
      "source": [
        "def show_batch(dataset,size=5):\n",
        "              for batch,label in dataset.take(size):\n",
        "                  print(batch.numpy())\n",
        "                  print(target(label).numpy())"
      ],
      "execution_count": null,
      "outputs": []
    },
    {
      "cell_type": "code",
      "metadata": {
        "id": "kwZ7AfWkj0Nh",
        "outputId": "2d07bd28-a9eb-45b8-dfc5-646928ab3f1c",
        "colab": {
          "base_uri": "https://localhost:8080/",
          "height": 219
        }
      },
      "source": [
        "show_batch(dataset_test,5)"
      ],
      "execution_count": null,
      "outputs": [
        {
          "output_type": "stream",
          "text": [
            "b'uk troops on ivory coast standby downing street has confirmed british troops are on standby in case they need to help evacuate several hundred uk citizens from ivory coast.  the news came as it emerged france had begun evacuating its hostages after days of anti-french demonstrations. trouble flared after nine french peacekeepers were killed and president jacques chirac ordered the destruction of the ivory coast s air force. a company of 100-120 uk troops is understood to have been put on standby. they are ready to fly out and secure the route from the embassy to the airport if called upon. prime minister tony blair s official spokesman said:  there are british nationals in ivory coast and as you can imagine we are making the usual contingency plans in case the situation deteriorates further  but that s all i can say at this stage.   he added the situation would be monitored carefully in case evacuation became necessary. france has played a lead role in international peacekeeping in ivory coast - a former colony - after president laurent gbagbo broke an 18-month ceasefire with rebels bombing their positions and killing the nine french soldiers. the decision to destroy the african nation s small air force prompted riots against french and other foreign nationals. the spanish have already put their forces on standby to evacuate their nationals if necessary.'\n",
            "1\n",
            "b'boris opposes mayor apology ken livingstone should  stick to his guns  and not apologise for his  nazi  comment to a jewish reporter  tory mp boris johnson has insisted.  mr johnson also claimed tony blair s intervention in the row was  an attempt to reassure jewish voters . london mayor mr livingstone says he is  standing by  his remarks which likened an evening standard journalist to a  concentration camp guard . but the prime minister says it is time for mr livingstone to say sorry.  labour s mr livingstone has said his comments may have been offensive but were not racist  and said earlier this week he would not apologise even if mr blair asked. later the prime minister said:  a lot of us in politics get angry with journalists from time to time  but in the circumstances  and to the journalist because he was a jewish journalist  yes  he should apologise.   however  mr johnson  who was forced to apologise last year for an article in the magazine he edits about liverpudlians grieving over the death of british hostage ken bigley  said mr blair  should butt out of  the row.  i don t see why the prime minister has to get involved in this   the spectator editor told bbc radio 4 s today programme.  it s a dispute between ken livingstone and a reporter on the evening standard.  mr johnson  mp for henley-on-thames  oxfordshire  said he suspected labour was now trying to reassure jewish voters  because of this curious way in which labour seems to be trying to curry favour with disillusioned muslim voters who may be disillusioned about the war .   ken doesn t think he s got anything to say sorry for and if that s really his feeling  then i think that he should stick to his guns   he said. mr johnson apologised last october for perpetuating an  outdated stereotype  of liverpool in the leader article on the death of mr bigley. the article in the magazine suggested grieving liverpudlians were wallowing in their victim status. it also attributed blame to drunken liverpool football fans for the 1989 hillsborough disaster in which 96 died. mr johnson told today:  it s perfectly true that i got into the grovelling game myself and when i apologised there were some things that i felt i ought to say sorry for ... there were also other things i didn t think i should apologise for   he said.  but here s old ken - he s been crass  he s been insensitive and thuggish and brutal in his language - but i don t think actually if you read what he said  although it was extraordinary and rude  i don t think he was actually anti-semitic.'\n",
            "1\n",
            "b'hollywood ready for oscars night hollywood is preparing for the biggest night in the film world s calendar  the 77th academy awards  on sunday.  a host of stars are expected to grace the red carpet outside los angeles  kodak theatre  including johnny depp  cate blanchett and leonardo dicaprio. british actors in attendance include nominees clive owen  imelda staunton  kate winslet and director mike leigh. the aviator leads the shortlist  but critics believe the night may belong to clint eastwood s million dollar baby. a recent poll of us pundits found eastwood s boxing drama had become the new favourite to win best film over the howard hughes biopic.  if the 74-year-old does win  he will become the oldest person ever to be named best director at the ceremony. uk critics still favour the aviator for best film  but believe the best director title will generate a close fought battle between eastwood and martin scorsese.  scorsese has never won the best director prize  despite four previous nominations for films including raging bull  goodfellas and gangs of new york. eastwood has won best director once before  for unforgiven in 1993. most experts predict the twice-nominated jamie foxx will win best actor for his portrayal of singer ray charles  while vera drake star imelda staunton looks likely to lose out in the best actress field to hilary swank in million dollar baby. the uk s highest hopes remain with clive owen  who has scooped both the golden globe and the bafta for his supporting role in closer. actor and comedian chris rock will host the event  which will be broadcast with a seven-second time delay to allow censors to cut out any unsuitable content.   we have the bleep machine ready  but bleeps will be used as needed   producer gil cates told reporters. however  he added that he strongly disapproved of the growing tendency to censor live broadcasts on us tv.  he also played down fears that rock  who is known for using strong language in his stand-up routines  might cause controversy on the night. the 40-year-old comic has already promised not to swear live on air during the show.  chris has a sense of humour and everything he says is really said humorously   cates said.  you need a movie star and someone who is a stand-up comic so they can deal with the vicissitudes of the show.  security will also be tight  with police employing a system to detect sarin nerve gas.  we are pulling out all the stops   said john miller  chief of counterterrorism at the los angeles police department. the show is  a symbol of american culture and has the potential to be a high-visibility target   he added. meanwhile  organisers have erected a canopy over the red carpet following an outbreak of torrential rain in los angeles over the past week. cates said the covers would be removed if the threat of wet weather receded. details have also emerged of the contents of this year s gift bags  which are given to nominees and presenters on the night. this year s bags will include a gift certificate for a luxury beach resort  a pair of mink eyelashes and a kitchen set with a year s supply of tea and coffee. the event will be televised by the abc network from 1700 local time (0100 gmt)  and on sky movies in the uk from 0130 gmt.'\n",
            "2\n",
            "b'guantanamo man  suing government  a british terror suspect held in guantanamo bay for 33 months plans to sue the government  it is reported.  martin mubanga claimed in the observer that an mi6 officer played a key role in consigning him to the us camp in cuba  following his arrest in zambia. mr mubanga  32  from wembley  london  said he was brutally interrogated and daubed with urine at the camp. the home secretary said he would not be launching an investigation and that the media reports were not  well informed . mr mubanga  who has dual british and zambian nationality  was one of four britons who were released from the us camp in january.  he said he was sent there after being interrogated by a british man who said he was from mi6  shortly after his arrest in zambia in march 2002. mr mubanga said he had been in afghanistan and pakistan to study islam. but he said he was unable to return to the uk because he had lost his british passport  and was travelling on his zambian passport instead. mr mubanga said the  mi6 agent  told him the passport had been found in a cave in afghanistan along with documents listing jewish groups in new york and suggested he had been on an al-qaeda reconnaissance mission. mr mubanga said the man  and an american female defence official  tried to recruit him as an agent  but he refused and within three weeks was told he would be sent to guantanamo bay.  his lawyer louise christian said:   we are hoping to issue proceedings for the misfeasance of officials who colluded with the americans in effectively kidnapping him and taking him to guantanamo.  and menzies campbell  the liberal democrats  foreign affairs spokesman  said it was vital to establish whether ministers approved mr mubanga s transfer to guantanamo. but a foreign office spokesman said he could not comment on the activities of british intelligence or security agencies. and home secretary charles clarke told bbc one s breakfast with frost:  i m not organising a specific investigation into it.  mr mubanga is the first of the four detainees freed last month to give a media interview. he told the observer his worst moment was when he was told he would be released last march  only to be confined and told he would be there for many more years.  he claimed he was stripped of his clothes and mattress and forced to remain in an empty metal box  naked except for boxer shorts. and he said an interrogator used a mop to daub him with his own urine while he was chained hand and foot. mr mubanga  who insists he does not feel bitter  said:  i ve lost three years of my life  because i was a muslim. he added:  the authorities wanted to break me but they strengthened me. they ve made me what i am - even if i m not quite sure yet who that person is.  the us government denied the claims  saying it condemned and prohibited torture. in a statement  it said:  the department of defense has no doubt that mr mubanga was properly detained as an enemy combatant under the laws of war.  he was detained to prevent him from fighting against the us and our allies in the war on terror.  but fair trials abroad director stephen jakobi said there were similarities between mr mubanga s account and those of other guantanamo detainees. he said:  the pattern is the same. the real problem is the concentration camp conditions in guantanamo.  is [charles clarke] really pretending this is all made up   mr mubanga and the three other freed british detainees were released without charge by uk police on their return from cuba.'\n",
            "1\n",
            "b'howard unveils election platform the conservatives would stand up for the  forgotten majority   michael howard pledged as he unveiled the first part of the tory election manifesto.  the tory leader argued there was a mass of people whom he says feel let down by tony blair and who share tory values. in the foreword to the manifesto  he promises to focus on restoring order  trying to lower taxes and giving power back to the people. labour says the document offers only a return to a  failed tory past . the liberal democrats say the conservatives cannot win what they predict will be a three-party contest.  campaigning activity is accelerating ahead of the general election  which is widely tipped for may but could be any time before june 2006. labour on monday postponed a launch of election posters because of the asian tsunami disaster. mr howard published the introduction to the tory manifesto. other chapters will follow in coming weeks.  in a speech in northamptonshire  he said the  forgotten majority  made up the backbone of britain. they were people who were saving for their first home or their retirement  working hard and accepting their responsibilities. he says in the manifesto foreword:  they have been forgotten  neglected and taken for granted by mr blair.   saying britain must change direction  mr howard argues government is too big and cannot continue  down the path of ever rising taxes . he promises to ensure frontline professionals  parents and patients make the key decisions rather than whitehall  bureaucrats . and he says the tories would get a grip on crime  immigration and disorder.  the decline of responsibility and the proliferation of so-called  human rights  have left us in a moral quagmire  unable to get a grip on rising crime and disorder   he says.  mr howard says he will produce a timetable for action so people can hold him to account but on issues like taxation he has so far only published options  not specific plans. mr howard told bbc news:  i m determined to lower taxes but i m also determined not to make any promises i can t keep.  the tories were unveiling material months ahead of the expected election because they needed time to make voters aware of their policies  he said. he was asked if tory support for the government on iraq and identity cards had given the lib dems the chance to portray themselves as the opposition to labour. mr howard argued the only test for his policies was whether they were best for britain. it had nothing to do with putting  clear blue water  between himself and his opponents.  labour s election slogan will be:  britain s working  don t let the tories wreck it again . campaign coordinator alan milburn accused the tories of  launching thatcherism in instalments  while labour helped the hard working majority of families. lib dem president simon hughes said his party had set out its election stance in september.  the liberal democrats will ask the british people for support this year as the party with the policies best able to deliver freedom and fairness and to restore trust   he said.'\n",
            "1\n"
          ],
          "name": "stdout"
        }
      ]
    },
    {
      "cell_type": "code",
      "metadata": {
        "id": "oN9fFswOj0Ns"
      },
      "source": [
        "def fetch(text,labels):\n",
        "    return text, tf.one_hot(target(labels),5)"
      ],
      "execution_count": null,
      "outputs": []
    },
    {
      "cell_type": "code",
      "metadata": {
        "id": "Gfc9eBRWj0N0"
      },
      "source": [
        "train_data_f=dataset_train.map(fetch)\n",
        "test_data_f=dataset_test.map(fetch)"
      ],
      "execution_count": null,
      "outputs": []
    },
    {
      "cell_type": "code",
      "metadata": {
        "id": "snGmw1pIj0N9",
        "outputId": "f475b279-9560-4bc4-fad0-dcffd351171b",
        "colab": {
          "base_uri": "https://localhost:8080/",
          "height": 73
        }
      },
      "source": [
        "next(iter(train_data_f))"
      ],
      "execution_count": null,
      "outputs": [
        {
          "output_type": "execute_result",
          "data": {
            "text/plain": [
              "(<tf.Tensor: shape=(), dtype=string, numpy=b'labour chooses manchester the labour party will hold its 2006 autumn conference in manchester and not blackpool  it has been confirmed.  the much trailed decision was ratified by labour s ruling national executive committee in a break with the traditional choice of a seaside venue. it will be the first time since 1917 that the party has chosen manchester to host the annual event. blackpool will get the much smaller february spring conference instead in what will be seen as a placatory move.  for years the main political parties have rotated between blackpool  bournemouth and brighton. and the news the much larger annual conference is not to gather in blackpool will be seen as a blow in the coastal resort. in 1998 the party said it would not return to blackpool but did so in 2002. the following year bournemouth hosted the event before the party signed a two year deal for brighton to host the autumn conference.  colin asplin  blackpool hotel association said:  we have tried very hard to make sure they come back to blackpool.  obviously we have failed in that. i just hope manchester can handle the crowds.  it amazes me that the labour party  which is a working class party  doesn t want to come to the main working class resort in the country.  the exact cost to blackpool in terms of lost revenue for hotel accommodation is not yet known but it is thought that block bookings will be taken at the major manchester hotels after the official announcement.'>,\n",
              " <tf.Tensor: shape=(5,), dtype=float32, numpy=array([0., 1., 0., 0., 0.], dtype=float32)>)"
            ]
          },
          "metadata": {
            "tags": []
          },
          "execution_count": 74
        }
      ]
    },
    {
      "cell_type": "code",
      "metadata": {
        "id": "dTwIKOEFj0OD",
        "outputId": "90a6338d-1b9a-48a1-8fa6-72ffbe8c5d9a",
        "colab": {
          "base_uri": "https://localhost:8080/",
          "height": 219
        }
      },
      "source": [
        "train_data,train_labels=next(iter(train_data_f.batch(4)))\n",
        "train_data,train_labels"
      ],
      "execution_count": null,
      "outputs": [
        {
          "output_type": "execute_result",
          "data": {
            "text/plain": [
              "(<tf.Tensor: shape=(4,), dtype=string, numpy=\n",
              " array([b'labour chooses manchester the labour party will hold its 2006 autumn conference in manchester and not blackpool  it has been confirmed.  the much trailed decision was ratified by labour s ruling national executive committee in a break with the traditional choice of a seaside venue. it will be the first time since 1917 that the party has chosen manchester to host the annual event. blackpool will get the much smaller february spring conference instead in what will be seen as a placatory move.  for years the main political parties have rotated between blackpool  bournemouth and brighton. and the news the much larger annual conference is not to gather in blackpool will be seen as a blow in the coastal resort. in 1998 the party said it would not return to blackpool but did so in 2002. the following year bournemouth hosted the event before the party signed a two year deal for brighton to host the autumn conference.  colin asplin  blackpool hotel association said:  we have tried very hard to make sure they come back to blackpool.  obviously we have failed in that. i just hope manchester can handle the crowds.  it amazes me that the labour party  which is a working class party  doesn t want to come to the main working class resort in the country.  the exact cost to blackpool in terms of lost revenue for hotel accommodation is not yet known but it is thought that block bookings will be taken at the major manchester hotels after the official announcement.',\n",
              "        b'uk heading wrong way - howard tony blair has had the chance to tackle the problems facing britain and has failed  michael howard has said.   britain is heading in the wrong direction   the conservative leader said in his new year message. mr blair s government was a  bossy  interfering government that takes decisions that should be made by individuals   he added. but labour s campaign spokesman fraser kemp responded:  britain is working  don t let the tories wreck it again . mr howard also paid tribute to the nation s character for its generous response to the asian quake disaster. the catastrophe was overshadowing the hopes for the future at this usually positive time of the year  mr howard said.   we watched the scenes of destruction with a sense of disbelief. the scale  the speed  the ferocity of what happened on boxing day is difficult to grasp.  yet britain s response has shone a light on our nation s character. the last week has shown that the warm  caring heart of britain beats as strong as ever.  he went on to reflect on the values that  most britons hold dear . looking ahead to the coming general election  he pledged to  turn these beliefs into reality  and set out the choices he says are facing britain.  how much tax do people want to pay  who will give taxpayers value for money  the clean hospitals and good  disciplined schools they want   who can be trusted to get a grip on the disorder on our streets and the chaos in our immigration system    mr blair has failed to tackle these problems  he claimed  saying he has the  wrong solution  to them.   the result is big government and higher taxes eroding incentives  undermining enterprise and denying people choice.  worst of all  it is a government that has wasted people s money and failed to tackle the problems families face today.  the tories  he said  can cut crime and improve public services without asking people to pay more taxes.  we can have progress without losing what makes britain great - its tolerance  the respect for the rule of law  the ability of everyone to fulfil their potential.  we simply need to change direction. the election will give britain the chance to change.  this is the record mr blair will have to defend in the coming months  he said  urging voters to hold him to account.  but labour spokesman mr kemp said:  it would be more appropriate for this message to come out on 1 april  not 1 january.   let us never forget that when michael howard was in government britain suffered mass unemployment  15% interest rates  record home repossessions  and the introduction of the poll tax.  with labour britain is working. rather than alluding to false promises michael howard should be starting 2005 with an apology to the british people for the misery that the government  of which he was a member  inflicted upon the country.',\n",
              "        b'labour accused of broken pledge labour has already broken its pre-election promise on immigration before the ink has dried on its new pledge card  the tories have claimed.  home secretary charles clarke has been quoted as telling labour members he wants more migrants to come to the uk. tory co-chairman liam fox said the comments were at odds with tony blair s prediction of a net cut in immigration. but mr clarke accused him of trying to score  cheap political points  by muddling immigration with asylum.  london s evening standard quoted mr clarke telling labour activists at a question and answer session in gateshead that he wanted britain to offer refuge for those fleeing tyranny.  that s not only a moral duty and a legal duty  but something which is part of the essence of this country   he said.   we want more migration  more people come to study and to work.  we want more people coming to look for refuge.  mr blair s was asked last wednesday if the government s new immigration plans  including a point system for economic migrants  would reduce net migration. the prime minister told mps:  the abusers will be weeded out  and as a result of the end of chain migration [where families have an automatic right to settle]  the numbers will probably fall.   on monday  dr fox told reporters:  the prime minister has broken his word so many times in the past but now his promises do not even last a week.  the labour party election pledges  even when they are so incredibly vague  do not even last four days.   the tories want quotas for economic migrants and refugees and on tuesday will outline more details of their plans for health checks on migrants. mr clarke dismissed the latest tory attack.  this is simply a scurrilous attempt by the tories to score cheap political points   he said.  the tories are purposely mixing together two separate issues of immigration and asylum.   mr clarke said he had made clear the uk would welcome genuine economic migrants for key jobs on a strict points based system. and only asylum seekers genuinely fleeing death or persecution would be admitted.  under our plans we expect unfounded applications to continue to fall   he added. earlier  dr fox accused mr blair and other cabinet ministers of telling lies about tory policies and then attacking the lies. he told bbc radio:  if you are willing to lie about the reasons for going to war  i guess you are going to lie about anything at all.  the latest pre-election spats come after mr blair told labour members the tories offered a  hard right agenda  which would take britain backwards. lib dem leader charles kennedy accelerating lib dem election preparations this week as he visits manchester  liverpool  leicester  somerset  basingstoke  shrewsbury  dorset and torbay.',\n",
              "        b'february poll claim  speculation  reports that tony blair is planning a snap general election for february 2005 have been described as  idle speculation  by downing street.  a spokesman said he had  no idea  where the reports in the sunday times and sunday telegraph had come from. the papers suggest ministers believe the government could benefit from a  baghdad bounce  following successful iraq elections in january. a british general election was last held in february in 1974. in that election  edward heath lost and failed to build a coalition with the liberals. harold wilson took over and increased his majority later in the year in a second election  the latest speculation suggests the prime minister favours a february poll in order to exploit his current opinion poll lead over conservative leader michael howard. but that strategy could prompt criticism he was seeking to  cut and run  after less then four years of a parliamentary term. the papers report that alan milburn  labour s head of elections strategy  has played a key role in the plan for a february election  which would include a new year advertising blitz. new labour s campaign  both newspapers said  would be centred around the slogan  britain is working . a labour party spokesman said the election date was ultimately a matter for mr blair  but he was unaware of anything to suggest it would be in february. most commentators have been expecting an election on 5 may. the last election was in june 2001.'],\n",
              "       dtype=object)>, <tf.Tensor: shape=(4, 5), dtype=float32, numpy=\n",
              " array([[0., 1., 0., 0., 0.],\n",
              "        [0., 1., 0., 0., 0.],\n",
              "        [0., 1., 0., 0., 0.],\n",
              "        [0., 1., 0., 0., 0.]], dtype=float32)>)"
            ]
          },
          "metadata": {
            "tags": []
          },
          "execution_count": 75
        }
      ]
    },
    {
      "cell_type": "code",
      "metadata": {
        "id": "rNqk21Ouj0OI",
        "outputId": "5db19906-c5d9-40b2-ed3b-d7f7665919af",
        "colab": {
          "base_uri": "https://localhost:8080/",
          "height": 637
        }
      },
      "source": [
        "embedding=\"https://tfhub.dev/google/nnlm-en-dim128/2\"\n",
        "hub_layer=hub.KerasLayer(embedding,output_shape=[128],input_shape=[],\n",
        "                        dtype=tf.string,trainable=True)\n",
        "hub_layer(train_data[:1])"
      ],
      "execution_count": null,
      "outputs": [
        {
          "output_type": "stream",
          "text": [
            "WARNING:tensorflow:7 out of the last 7 calls to <function recreate_function.<locals>.restored_function_body at 0x7f8ae963b620> triggered tf.function retracing. Tracing is expensive and the excessive number of tracings could be due to (1) creating @tf.function repeatedly in a loop, (2) passing tensors with different shapes, (3) passing Python objects instead of tensors. For (1), please define your @tf.function outside of the loop. For (2), @tf.function has experimental_relax_shapes=True option that relaxes argument shapes that can avoid unnecessary retracing. For (3), please refer to https://www.tensorflow.org/tutorials/customization/performance#python_or_tensor_args and https://www.tensorflow.org/api_docs/python/tf/function for  more details.\n"
          ],
          "name": "stdout"
        },
        {
          "output_type": "stream",
          "text": [
            "WARNING:tensorflow:7 out of the last 7 calls to <function recreate_function.<locals>.restored_function_body at 0x7f8ae963b620> triggered tf.function retracing. Tracing is expensive and the excessive number of tracings could be due to (1) creating @tf.function repeatedly in a loop, (2) passing tensors with different shapes, (3) passing Python objects instead of tensors. For (1), please define your @tf.function outside of the loop. For (2), @tf.function has experimental_relax_shapes=True option that relaxes argument shapes that can avoid unnecessary retracing. For (3), please refer to https://www.tensorflow.org/tutorials/customization/performance#python_or_tensor_args and https://www.tensorflow.org/api_docs/python/tf/function for  more details.\n"
          ],
          "name": "stderr"
        },
        {
          "output_type": "stream",
          "text": [
            "WARNING:tensorflow:8 out of the last 8 calls to <function recreate_function.<locals>.restored_function_body at 0x7f8ae963bae8> triggered tf.function retracing. Tracing is expensive and the excessive number of tracings could be due to (1) creating @tf.function repeatedly in a loop, (2) passing tensors with different shapes, (3) passing Python objects instead of tensors. For (1), please define your @tf.function outside of the loop. For (2), @tf.function has experimental_relax_shapes=True option that relaxes argument shapes that can avoid unnecessary retracing. For (3), please refer to https://www.tensorflow.org/tutorials/customization/performance#python_or_tensor_args and https://www.tensorflow.org/api_docs/python/tf/function for  more details.\n"
          ],
          "name": "stdout"
        },
        {
          "output_type": "stream",
          "text": [
            "WARNING:tensorflow:8 out of the last 8 calls to <function recreate_function.<locals>.restored_function_body at 0x7f8ae963bae8> triggered tf.function retracing. Tracing is expensive and the excessive number of tracings could be due to (1) creating @tf.function repeatedly in a loop, (2) passing tensors with different shapes, (3) passing Python objects instead of tensors. For (1), please define your @tf.function outside of the loop. For (2), @tf.function has experimental_relax_shapes=True option that relaxes argument shapes that can avoid unnecessary retracing. For (3), please refer to https://www.tensorflow.org/tutorials/customization/performance#python_or_tensor_args and https://www.tensorflow.org/api_docs/python/tf/function for  more details.\n"
          ],
          "name": "stderr"
        },
        {
          "output_type": "stream",
          "text": [
            "WARNING:tensorflow:9 out of the last 9 calls to <function recreate_function.<locals>.restored_function_body at 0x7f8ae96326a8> triggered tf.function retracing. Tracing is expensive and the excessive number of tracings could be due to (1) creating @tf.function repeatedly in a loop, (2) passing tensors with different shapes, (3) passing Python objects instead of tensors. For (1), please define your @tf.function outside of the loop. For (2), @tf.function has experimental_relax_shapes=True option that relaxes argument shapes that can avoid unnecessary retracing. For (3), please refer to https://www.tensorflow.org/tutorials/customization/performance#python_or_tensor_args and https://www.tensorflow.org/api_docs/python/tf/function for  more details.\n"
          ],
          "name": "stdout"
        },
        {
          "output_type": "stream",
          "text": [
            "WARNING:tensorflow:9 out of the last 9 calls to <function recreate_function.<locals>.restored_function_body at 0x7f8ae96326a8> triggered tf.function retracing. Tracing is expensive and the excessive number of tracings could be due to (1) creating @tf.function repeatedly in a loop, (2) passing tensors with different shapes, (3) passing Python objects instead of tensors. For (1), please define your @tf.function outside of the loop. For (2), @tf.function has experimental_relax_shapes=True option that relaxes argument shapes that can avoid unnecessary retracing. For (3), please refer to https://www.tensorflow.org/tutorials/customization/performance#python_or_tensor_args and https://www.tensorflow.org/api_docs/python/tf/function for  more details.\n"
          ],
          "name": "stderr"
        },
        {
          "output_type": "execute_result",
          "data": {
            "text/plain": [
              "<tf.Tensor: shape=(1, 128), dtype=float32, numpy=\n",
              "array([[ 1.6941034 ,  0.23049523, -0.08793923,  0.01198543,  0.3070997 ,\n",
              "        -0.13066319, -0.32739973, -0.31352264, -0.07746296,  0.40974587,\n",
              "         0.39540884, -0.03749761, -0.14638169, -0.22685687,  0.02108006,\n",
              "        -0.16677113, -0.23329513, -0.15148026, -0.3090214 ,  1.4332433 ,\n",
              "         0.06916769,  0.4247905 ,  0.06908006,  0.01716453,  0.24063616,\n",
              "        -0.10666896,  0.09301689,  0.03350942, -0.3637271 , -0.06710243,\n",
              "         0.15618017, -0.06435317,  0.2852476 ,  0.18387385,  0.00244654,\n",
              "         0.05746726, -0.17328995, -0.13956442, -0.0453722 ,  0.44838452,\n",
              "        -0.16400109,  0.05425557, -0.24944031, -0.05772451,  0.2594732 ,\n",
              "         0.12612946,  0.03629567,  0.00397563, -0.05138079,  0.01340066,\n",
              "         0.09114183,  0.18002254, -0.02654433,  0.00932222, -0.37852114,\n",
              "         0.12668972, -0.07056652, -0.1214018 ,  0.06388934,  0.09388972,\n",
              "        -0.40544865,  0.15294464,  0.18924394, -0.29335105, -0.12005391,\n",
              "        -0.01172841, -0.21429393, -0.3331652 , -0.12142734, -0.07677279,\n",
              "        -0.09385439, -0.27358142,  0.10800222,  0.04624907,  0.12433255,\n",
              "         0.01477588, -0.18351527, -0.09600176, -0.07326483, -0.24402624,\n",
              "         0.31197777,  0.22291587, -0.11712065, -0.08295579, -0.01482791,\n",
              "        -0.43400475, -0.48158994,  0.03444109,  0.98067087,  0.58624816,\n",
              "        -0.29060453,  0.35255685, -0.3018874 , -0.29233697, -0.09820064,\n",
              "         0.274209  ,  0.04706826, -0.0371368 , -0.05607806, -0.03652057,\n",
              "        -0.09375452,  0.12228855,  0.34508842,  0.19160745,  0.09545402,\n",
              "         0.08683636,  0.13840193, -0.11485091, -0.3578219 , -0.2501589 ,\n",
              "        -0.5881243 , -0.1094719 ,  0.26130328, -0.062401  , -0.12749535,\n",
              "        -0.06572384, -0.01342363, -0.05429755, -0.03283151,  0.21425991,\n",
              "         0.01266421, -0.5787127 ,  0.06305812,  0.2056907 ,  0.04052294,\n",
              "         0.09317478,  0.1604374 , -0.04635554]], dtype=float32)>"
            ]
          },
          "metadata": {
            "tags": []
          },
          "execution_count": 76
        }
      ]
    },
    {
      "cell_type": "code",
      "metadata": {
        "id": "KDOX0crMj0OM",
        "outputId": "ce317649-dcab-4554-cfb0-34dfbb4b1de6",
        "colab": {
          "base_uri": "https://localhost:8080/",
          "height": 526
        }
      },
      "source": [
        "model=tf.keras.Sequential()\n",
        "model.add(hub_layer)\n",
        "for units in [128,128,64,32]:\n",
        "    model.add(tf.keras.layers.Dense(units,activation='relu'))\n",
        "    model.add(tf.keras.layers.Dropout(0.3))\n",
        "model.add(tf.keras.layers.Dense(5,activation='softmax'))\n",
        "model.summary()"
      ],
      "execution_count": null,
      "outputs": [
        {
          "output_type": "stream",
          "text": [
            "Model: \"sequential_4\"\n",
            "_________________________________________________________________\n",
            "Layer (type)                 Output Shape              Param #   \n",
            "=================================================================\n",
            "keras_layer_2 (KerasLayer)   (None, 128)               124642688 \n",
            "_________________________________________________________________\n",
            "dense_20 (Dense)             (None, 128)               16512     \n",
            "_________________________________________________________________\n",
            "dropout_16 (Dropout)         (None, 128)               0         \n",
            "_________________________________________________________________\n",
            "dense_21 (Dense)             (None, 128)               16512     \n",
            "_________________________________________________________________\n",
            "dropout_17 (Dropout)         (None, 128)               0         \n",
            "_________________________________________________________________\n",
            "dense_22 (Dense)             (None, 64)                8256      \n",
            "_________________________________________________________________\n",
            "dropout_18 (Dropout)         (None, 64)                0         \n",
            "_________________________________________________________________\n",
            "dense_23 (Dense)             (None, 32)                2080      \n",
            "_________________________________________________________________\n",
            "dropout_19 (Dropout)         (None, 32)                0         \n",
            "_________________________________________________________________\n",
            "dense_24 (Dense)             (None, 5)                 165       \n",
            "=================================================================\n",
            "Total params: 124,686,213\n",
            "Trainable params: 124,686,213\n",
            "Non-trainable params: 0\n",
            "_________________________________________________________________\n"
          ],
          "name": "stdout"
        }
      ]
    },
    {
      "cell_type": "code",
      "metadata": {
        "id": "1qNFCfLdj0OZ"
      },
      "source": [
        "model.compile(optimizer='adam',\n",
        "             loss=tf.keras.losses.CategoricalCrossentropy(from_logits=True),\n",
        "             metrics=['accuracy'])"
      ],
      "execution_count": null,
      "outputs": []
    },
    {
      "cell_type": "code",
      "metadata": {
        "id": "qAjCMBeMj0Oi"
      },
      "source": [
        "train_data_f=train_data_f.shuffle(50000).batch(512)\n",
        "test_data_f=test_data_f.batch(512)"
      ],
      "execution_count": null,
      "outputs": []
    },
    {
      "cell_type": "code",
      "metadata": {
        "id": "Y1fqSzrTj0Op",
        "outputId": "0a6c4f19-e557-4756-a4a5-fe2833d26871",
        "colab": {
          "base_uri": "https://localhost:8080/",
          "height": 380
        }
      },
      "source": [
        "history=model.fit(train_data_f,\n",
        "                 epochs=10,\n",
        "                 validation_data=test_data_f,\n",
        "                 verbose=1,\n",
        "                 class_weight=weights)"
      ],
      "execution_count": null,
      "outputs": [
        {
          "output_type": "stream",
          "text": [
            "Epoch 1/10\n",
            "3/3 [==============================] - 3s 915ms/step - loss: 1.4637 - accuracy: 0.4692 - val_loss: 1.4422 - val_accuracy: 0.5038\n",
            "Epoch 2/10\n",
            "3/3 [==============================] - 3s 896ms/step - loss: 1.4656 - accuracy: 0.5033 - val_loss: 1.4072 - val_accuracy: 0.5909\n",
            "Epoch 3/10\n",
            "3/3 [==============================] - 3s 889ms/step - loss: 1.4369 - accuracy: 0.5336 - val_loss: 1.3766 - val_accuracy: 0.6326\n",
            "Epoch 4/10\n",
            "3/3 [==============================] - 3s 911ms/step - loss: 1.3745 - accuracy: 0.5611 - val_loss: 1.3512 - val_accuracy: 0.6326\n",
            "Epoch 5/10\n",
            "3/3 [==============================] - 3s 895ms/step - loss: 1.3338 - accuracy: 0.5678 - val_loss: 1.3247 - val_accuracy: 0.6326\n",
            "Epoch 6/10\n",
            "3/3 [==============================] - 3s 889ms/step - loss: 1.3012 - accuracy: 0.5848 - val_loss: 1.2880 - val_accuracy: 0.6553\n",
            "Epoch 7/10\n",
            "3/3 [==============================] - 3s 895ms/step - loss: 1.2333 - accuracy: 0.6284 - val_loss: 1.2547 - val_accuracy: 0.6553\n",
            "Epoch 8/10\n",
            "3/3 [==============================] - 3s 893ms/step - loss: 1.2337 - accuracy: 0.6540 - val_loss: 1.2265 - val_accuracy: 0.6591\n",
            "Epoch 9/10\n",
            "3/3 [==============================] - 3s 905ms/step - loss: 1.1859 - accuracy: 0.6512 - val_loss: 1.1984 - val_accuracy: 0.6932\n",
            "Epoch 10/10\n",
            "3/3 [==============================] - 3s 893ms/step - loss: 1.2032 - accuracy: 0.6910 - val_loss: 1.1623 - val_accuracy: 0.8030\n"
          ],
          "name": "stdout"
        }
      ]
    },
    {
      "cell_type": "code",
      "metadata": {
        "id": "6WjiTgf3j0Oy",
        "outputId": "eaaefe6f-a4cc-46cd-85e8-3ae3f0fd7013",
        "colab": {
          "base_uri": "https://localhost:8080/",
          "height": 35
        }
      },
      "source": [
        "len(list(dataset_test))"
      ],
      "execution_count": null,
      "outputs": [
        {
          "output_type": "execute_result",
          "data": {
            "text/plain": [
              "264"
            ]
          },
          "metadata": {
            "tags": []
          },
          "execution_count": 83
        }
      ]
    },
    {
      "cell_type": "code",
      "metadata": {
        "id": "d2eSeZoxj0O3",
        "outputId": "09a63cd3-d2de-49a8-df1b-7ab57c55764f",
        "colab": {
          "base_uri": "https://localhost:8080/",
          "height": 53
        }
      },
      "source": [
        "results=model.evaluate(dataset_test.map(fetch).batch(264),verbose=2)\n",
        "print(results)"
      ],
      "execution_count": null,
      "outputs": [
        {
          "output_type": "stream",
          "text": [
            "1/1 - 0s - loss: 1.1623 - accuracy: 0.8030\n",
            "[1.1623077392578125, 0.8030303120613098]\n"
          ],
          "name": "stdout"
        }
      ]
    },
    {
      "cell_type": "code",
      "metadata": {
        "id": "E_5f8pRmj0O_"
      },
      "source": [
        "test_data,test_labels=next(iter(dataset_test.map(fetch).batch(45963)))"
      ],
      "execution_count": null,
      "outputs": []
    },
    {
      "cell_type": "code",
      "metadata": {
        "id": "iXoRvksJuXY4"
      },
      "source": [
        "y_pred=model.predict(test_data)"
      ],
      "execution_count": null,
      "outputs": []
    },
    {
      "cell_type": "code",
      "metadata": {
        "id": "tzuiPO-TuicZ"
      },
      "source": [
        "from sklearn.metrics import classification_report"
      ],
      "execution_count": null,
      "outputs": []
    },
    {
      "cell_type": "code",
      "metadata": {
        "id": "FSdkhjaausc2",
        "outputId": "dc03e426-ad23-400c-864b-bab6d927c92a",
        "colab": {
          "base_uri": "https://localhost:8080/",
          "height": 291
        }
      },
      "source": [
        "print(classification_report(test_labels.numpy().argmax(axis=1),y_pred.argmax(axis=1)))"
      ],
      "execution_count": null,
      "outputs": [
        {
          "output_type": "stream",
          "text": [
            "              precision    recall  f1-score   support\n",
            "\n",
            "           0       0.87      1.00      0.93        98\n",
            "           1       1.00      0.45      0.62        89\n",
            "           2       0.73      0.97      0.83        76\n",
            "           3       0.00      0.00      0.00         0\n",
            "           4       0.00      0.00      0.00         1\n",
            "\n",
            "    accuracy                           0.80       264\n",
            "   macro avg       0.52      0.48      0.48       264\n",
            "weighted avg       0.87      0.80      0.79       264\n",
            "\n"
          ],
          "name": "stdout"
        },
        {
          "output_type": "stream",
          "text": [
            "/usr/local/lib/python3.6/dist-packages/sklearn/metrics/_classification.py:1272: UndefinedMetricWarning: Recall and F-score are ill-defined and being set to 0.0 in labels with no true samples. Use `zero_division` parameter to control this behavior.\n",
            "  _warn_prf(average, modifier, msg_start, len(result))\n"
          ],
          "name": "stderr"
        }
      ]
    },
    {
      "cell_type": "code",
      "metadata": {
        "id": "2paKS4Y-vhcM",
        "outputId": "7d82b898-2f25-489d-8642-83730d07acce",
        "colab": {
          "base_uri": "https://localhost:8080/",
          "height": 108
        }
      },
      "source": [
        "from sklearn.metrics import confusion_matrix\n",
        "confusion_matrix (test_labels.numpy().argmax(axis=1),y_pred.argmax(axis=1))"
      ],
      "execution_count": null,
      "outputs": [
        {
          "output_type": "execute_result",
          "data": {
            "text/plain": [
              "array([[98,  0,  0,  0,  0],\n",
              "       [13, 40, 27,  1,  8],\n",
              "       [ 2,  0, 74,  0,  0],\n",
              "       [ 0,  0,  0,  0,  0],\n",
              "       [ 0,  0,  1,  0,  0]])"
            ]
          },
          "metadata": {
            "tags": []
          },
          "execution_count": 89
        }
      ]
    }
  ]
}